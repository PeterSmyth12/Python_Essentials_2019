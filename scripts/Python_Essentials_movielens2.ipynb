{
 "cells": [
  {
   "cell_type": "markdown",
   "metadata": {},
   "source": [
    "### Another Example\n",
    "\n",
    "#### In this example we will produce a single stacked barchart graph of ratings by genres\n",
    "\n",
    "#### 1. We start in the same way by loading the file"
   ]
  },
  {
   "cell_type": "code",
   "execution_count": null,
   "metadata": {},
   "outputs": [],
   "source": [
    "import pandas as pd\n",
    "import matplotlib.pyplot as plt\n",
    "%matplotlib inline\n",
    "\n",
    "input_file = '..\\data\\movie_ratings_summary.csv'\n",
    "df_movies = pd.read_csv(input_file, sep=',')"
   ]
  },
  {
   "cell_type": "markdown",
   "metadata": {},
   "source": [
    "#### 2. We need to add a new column, the total count of the reviews for each movie"
   ]
  },
  {
   "cell_type": "code",
   "execution_count": null,
   "metadata": {},
   "outputs": [],
   "source": [
    "# the '\\' characters are line continuation characters. The indentation here is my choice, Python doesn't insist on it\n",
    "df_movies['Total'] = df_movies.Awful + \\\n",
    "                     df_movies.Bad + \\\n",
    "                     df_movies.Average + \\\n",
    "                     df_movies.Good + \\\n",
    "                     df_movies.Excellent\n",
    "df_movies.head()"
   ]
  },
  {
   "cell_type": "markdown",
   "metadata": {},
   "source": [
    "#### 3. We don't need the title column so we will drop it. When we do the aggregate, genres will become the index column."
   ]
  },
  {
   "cell_type": "code",
   "execution_count": null,
   "metadata": {},
   "outputs": [],
   "source": [
    "df_movies.drop(columns='title', inplace = True)\n",
    "df_groupedby = df_movies.groupby(['genres']).agg(sum)\n",
    "df_groupedby.head()"
   ]
  },
  {
   "cell_type": "markdown",
   "metadata": {},
   "source": [
    "#### 4. We can now change the Awful to Excellent columns to represent % of the total, after which we can remove the total column"
   ]
  },
  {
   "cell_type": "code",
   "execution_count": null,
   "metadata": {},
   "outputs": [],
   "source": [
    "df_groupedby['Awful'] = (df_groupedby['Awful']/df_groupedby['Total'])*100\n",
    "df_groupedby['Bad'] = (df_groupedby['Bad']/df_groupedby['Total'])*100\n",
    "df_groupedby['Average'] = (df_groupedby['Average']/df_groupedby['Total'])*100\n",
    "df_groupedby['Good'] = (df_groupedby['Good']/df_groupedby['Total'])*100\n",
    "df_groupedby['Excellent'] = (df_groupedby['Excellent']/df_groupedby['Total'])*100\n",
    "\n",
    "df_groupedby.drop(columns='Total', inplace=True)\n",
    "df_groupedby"
   ]
  },
  {
   "cell_type": "markdown",
   "metadata": {},
   "source": [
    "#### 5. We can now create the graph, and the png file in much the sme way as before."
   ]
  },
  {
   "cell_type": "code",
   "execution_count": null,
   "metadata": {},
   "outputs": [],
   "source": [
    "df_groupedby \\\n",
    "          .plot(kind='bar', stacked=True ) \\\n",
    "          .legend(bbox_to_anchor=(1, 1))\n",
    "plt.title(\"By Genre\", fontsize=24)\n",
    "plt.ylabel('% Respondents', fontsize=18)\n",
    "plt.xlabel('Genre', fontsize=18)\n",
    "plt.gcf().set_size_inches(8, 8) \n",
    "plt.savefig('respondents.png', bbox_inches='tight')"
   ]
  },
  {
   "cell_type": "markdown",
   "metadata": {},
   "source": [
    "#### 6. Had I not removed the Total column, I could have explicitly listed the columns I wanted included"
   ]
  },
  {
   "cell_type": "code",
   "execution_count": null,
   "metadata": {},
   "outputs": [],
   "source": [
    "df_groupedby[['Awful','Bad','Average', 'Good', 'Excellent']] \\\n",
    "          .plot(kind='bar', stacked=True ) \\\n",
    "          .legend(bbox_to_anchor=(1, 1))\n",
    "plt.title(\"By Genre\", fontsize=24)\n",
    "plt.ylabel('% Respondents', fontsize=18)\n",
    "plt.xlabel('Genre', fontsize=18)\n",
    "plt.gcf().set_size_inches(8, 8) \n",
    "plt.savefig('respondents.png', bbox_inches='tight')"
   ]
  },
  {
   "cell_type": "code",
   "execution_count": null,
   "metadata": {},
   "outputs": [],
   "source": []
  }
 ],
 "metadata": {
  "kernelspec": {
   "display_name": "Python 3",
   "language": "python",
   "name": "python3"
  },
  "language_info": {
   "codemirror_mode": {
    "name": "ipython",
    "version": 3
   },
   "file_extension": ".py",
   "mimetype": "text/x-python",
   "name": "python",
   "nbconvert_exporter": "python",
   "pygments_lexer": "ipython3",
   "version": "3.7.0"
  }
 },
 "nbformat": 4,
 "nbformat_minor": 2
}
