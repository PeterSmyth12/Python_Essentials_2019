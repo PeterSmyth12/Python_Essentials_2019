{
 "cells": [
  {
   "cell_type": "code",
   "execution_count": null,
   "metadata": {},
   "outputs": [],
   "source": [
    "import pandas as pd\n",
    "import matplotlib.pyplot as plt\n",
    "%matplotlib inline"
   ]
  },
  {
   "cell_type": "markdown",
   "metadata": {},
   "source": [
    "### Reding a csv file"
   ]
  },
  {
   "cell_type": "code",
   "execution_count": null,
   "metadata": {},
   "outputs": [],
   "source": [
    "input_file = '../data/movie_ratings_summary.csv'\n",
    "#input_file = 'data/movie_ratings_summary.csv'\n",
    "#input_file = 'data\\movie_ratings_summary.csv'\n",
    "df_movies = pd.read_csv(input_file, sep=',')\n",
    "\n"
   ]
  },
  {
   "cell_type": "code",
   "execution_count": null,
   "metadata": {},
   "outputs": [],
   "source": [
    "df_movies.shape"
   ]
  },
  {
   "cell_type": "code",
   "execution_count": null,
   "metadata": {},
   "outputs": [],
   "source": [
    "df_movies.head()"
   ]
  },
  {
   "cell_type": "code",
   "execution_count": null,
   "metadata": {},
   "outputs": [],
   "source": [
    "df_movies.columns"
   ]
  },
  {
   "cell_type": "code",
   "execution_count": null,
   "metadata": {},
   "outputs": [],
   "source": [
    "df_movies"
   ]
  },
  {
   "cell_type": "code",
   "execution_count": null,
   "metadata": {},
   "outputs": [],
   "source": [
    "# How many rows?\n",
    "print(len(df_movies))\n",
    "# How many rows and columns - returned as a tuple\n",
    "print(df_movies.shape)\n",
    "#How many 'cells' in the table\n",
    "print(df_movies.size)\n",
    "# What are the column names\n",
    "print(df_movies.columns)\n",
    "# what are the data types of the columns?\n",
    "print(df_movies.dtypes)"
   ]
  },
  {
   "cell_type": "markdown",
   "metadata": {},
   "source": [
    "### Reading only specific columns"
   ]
  },
  {
   "cell_type": "code",
   "execution_count": null,
   "metadata": {},
   "outputs": [],
   "source": [
    "input_file = '..\\data\\movie_ratings_summary.csv'\n",
    "df_movies_some_cols = pd.read_csv(input_file, sep=',', usecols= [1,2,3,4,5,6,])\n",
    "print(df_movies_some_cols.shape)\n",
    "print(df_movies_some_cols.columns)\n",
    "df_movies_some_cols = pd.read_csv(input_file, sep=',', usecols= ['genres', 'Awful', 'Bad', 'Average', 'Good', 'Excellent'])\n",
    "print(df_movies_some_cols.columns)"
   ]
  },
  {
   "cell_type": "markdown",
   "metadata": {},
   "source": [
    "### Selecting columns"
   ]
  },
  {
   "cell_type": "code",
   "execution_count": null,
   "metadata": {},
   "outputs": [],
   "source": [
    "# Both of these statements are the same\n",
    "print(df_movies['genres'])\n",
    "# and\n",
    "print(df_movies.genres)"
   ]
  },
  {
   "cell_type": "code",
   "execution_count": null,
   "metadata": {},
   "outputs": [],
   "source": [
    "print(df_movies[['title', 'genres']])"
   ]
  },
  {
   "cell_type": "markdown",
   "metadata": {},
   "source": [
    "### Selecting rows"
   ]
  },
  {
   "cell_type": "code",
   "execution_count": null,
   "metadata": {},
   "outputs": [],
   "source": [
    "# select row with index of 1, 2 and 3 (rows 2, 3 and 4 in the Dataframe)\n",
    "print(df_movies[1:4])"
   ]
  },
  {
   "cell_type": "code",
   "execution_count": null,
   "metadata": {},
   "outputs": [],
   "source": [
    "df_movies_some_rows = df_movies[(df_movies.genres == 'Comedy')]\n",
    "df_movies_some_rows"
   ]
  },
  {
   "cell_type": "code",
   "execution_count": null,
   "metadata": {},
   "outputs": [],
   "source": [
    "df_movies_some_rows = df_movies[(df_movies.genres == 'Comedy') & (df_movies.Excellent > 5)]\n",
    "df_movies_some_rows"
   ]
  },
  {
   "cell_type": "markdown",
   "metadata": {},
   "source": [
    "### Selecting rows and columns"
   ]
  },
  {
   "cell_type": "code",
   "execution_count": null,
   "metadata": {},
   "outputs": [],
   "source": [
    "df_movies_some_rows = df_movies[(df_movies.genres == 'Comedy') & (df_movies.Excellent > 5)][['title', 'Excellent']]\n",
    "df_movies_some_rows"
   ]
  },
  {
   "cell_type": "markdown",
   "metadata": {},
   "source": [
    "### Getting info on Numeric columns"
   ]
  },
  {
   "cell_type": "code",
   "execution_count": null,
   "metadata": {},
   "outputs": [],
   "source": [
    "df_movies.describe()"
   ]
  },
  {
   "cell_type": "code",
   "execution_count": null,
   "metadata": {},
   "outputs": [],
   "source": [
    "df_movies['Awful'].describe()"
   ]
  },
  {
   "cell_type": "code",
   "execution_count": null,
   "metadata": {},
   "outputs": [],
   "source": [
    "print(df_movies['Excellent'].min())\n",
    "print(df_movies['Excellent'].max())\n",
    "print(df_movies['Excellent'].mean())\n",
    "print(df_movies['Excellent'].std())\n",
    "print(df_movies['Excellent'].count())\n",
    "print(df_movies['Excellent'].sum())"
   ]
  },
  {
   "cell_type": "markdown",
   "metadata": {},
   "source": [
    "### Getting unique values in a categorical columns"
   ]
  },
  {
   "cell_type": "code",
   "execution_count": null,
   "metadata": {},
   "outputs": [],
   "source": [
    "df_movies.genres.unique()"
   ]
  },
  {
   "cell_type": "markdown",
   "metadata": {},
   "source": [
    "### Groupings and summaised information"
   ]
  },
  {
   "cell_type": "code",
   "execution_count": null,
   "metadata": {},
   "outputs": [],
   "source": [
    "grouped_data = df_movies.groupby('genres')\n",
    "grouped_data.describe()"
   ]
  },
  {
   "cell_type": "code",
   "execution_count": null,
   "metadata": {},
   "outputs": [],
   "source": [
    "grouped_data = df_movies.groupby(['genres', 'Awful'])\n",
    "grouped_data.describe()"
   ]
  },
  {
   "cell_type": "code",
   "execution_count": null,
   "metadata": {},
   "outputs": [],
   "source": [
    "A11_Average = df_movies.groupby(['genres', 'Awful'])['Average'].count()\n",
    "A11_Average"
   ]
  },
  {
   "cell_type": "markdown",
   "metadata": {},
   "source": [
    "### Creating and Removing columns"
   ]
  },
  {
   "cell_type": "code",
   "execution_count": null,
   "metadata": {},
   "outputs": [],
   "source": [
    "df_movies['Total'] = df_movies.Awful + \\\n",
    "                      df_movies.Bad + \\\n",
    "                      df_movies.Average + \\\n",
    "                      df_movies.Good + \\\n",
    "                      df_movies.Excellent\n",
    "df_movies.head()"
   ]
  },
  {
   "cell_type": "code",
   "execution_count": null,
   "metadata": {},
   "outputs": [],
   "source": [
    "# and delete it again\n",
    "\n",
    "df_movies.drop(columns = 'Total', inplace = True)\n",
    "\n",
    "df_movies.head()"
   ]
  },
  {
   "cell_type": "code",
   "execution_count": null,
   "metadata": {},
   "outputs": [],
   "source": []
  }
 ],
 "metadata": {
  "kernelspec": {
   "display_name": "Python 3",
   "language": "python",
   "name": "python3"
  },
  "language_info": {
   "codemirror_mode": {
    "name": "ipython",
    "version": 3
   },
   "file_extension": ".py",
   "mimetype": "text/x-python",
   "name": "python",
   "nbconvert_exporter": "python",
   "pygments_lexer": "ipython3",
   "version": "3.7.10"
  }
 },
 "nbformat": 4,
 "nbformat_minor": 2
}
