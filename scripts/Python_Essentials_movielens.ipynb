{
 "cells": [
  {
   "cell_type": "markdown",
   "metadata": {},
   "source": [
    "### Setup and read file into dataframe"
   ]
  },
  {
   "cell_type": "code",
   "execution_count": null,
   "metadata": {},
   "outputs": [],
   "source": [
    "import pandas as pd\n",
    "import matplotlib.pyplot as plt\n",
    "%matplotlib inline\n",
    "\n",
    "input_file = '..\\data\\movie_ratings_summary.csv'\n",
    "df_movies = pd.read_csv(input_file, sep=',')"
   ]
  },
  {
   "cell_type": "markdown",
   "metadata": {},
   "source": [
    "### Show complete code and results\n",
    "#### First a stacked barchart for films within each genre"
   ]
  },
  {
   "cell_type": "code",
   "execution_count": null,
   "metadata": {},
   "outputs": [],
   "source": [
    "df_movies.set_index('title', inplace = True)\n",
    "genres = df_movies['genres'].unique()\n",
    "for x in genres :\n",
    "    count = len(df_movies[(df_movies.genres == x)])\n",
    "    df_movies[(df_movies.genres == x)][['Awful','Bad','Average', 'Good', 'Excellent']] \\\n",
    "              .plot(kind='barh', stacked=True ) \\\n",
    "              .legend(bbox_to_anchor=(1, 1))\n",
    "    plt.title(x, fontsize=24)\n",
    "    plt.xlabel('Respondents', fontsize=18)\n",
    "    plt.ylabel('Title', fontsize=18)\n",
    "    plt.gcf().set_size_inches(5, count/2) \n",
    "    plt.savefig(x +'.png', bbox_inches='tight')"
   ]
  },
  {
   "cell_type": "markdown",
   "metadata": {},
   "source": [
    "### Breaking this down\n",
    "\n",
    "#### 1. Change the default index of the dataframe to 'title' as we use these for the categorical variable normally on the x-axis"
   ]
  },
  {
   "cell_type": "code",
   "execution_count": null,
   "metadata": {},
   "outputs": [],
   "source": [
    "# this has already been done so don't run it again\n",
    "df_movies.set_index('title', inplace = True)"
   ]
  },
  {
   "cell_type": "markdown",
   "metadata": {},
   "source": [
    "#### 2. Next get a list of the genres and for now print them"
   ]
  },
  {
   "cell_type": "code",
   "execution_count": null,
   "metadata": {},
   "outputs": [],
   "source": [
    "genres = df_movies['genres'].unique()\n",
    "for x in genres :\n",
    "    print(x)"
   ]
  },
  {
   "cell_type": "markdown",
   "metadata": {},
   "source": [
    "#### 3. All we have to do now is change the print statement for code that draws a barchart\n",
    "#### 4. Try starting with a simple barchart"
   ]
  },
  {
   "cell_type": "code",
   "execution_count": null,
   "metadata": {},
   "outputs": [],
   "source": [
    "    df_movies[(df_movies.genres == 'Crime')][['Awful','Bad','Average', 'Good', 'Excellent']] \\\n",
    "              .plot(kind='bar' )"
   ]
  },
  {
   "cell_type": "markdown",
   "metadata": {},
   "source": [
    "#### 5. What would this look like if we had a lot of films in the genre?"
   ]
  },
  {
   "cell_type": "code",
   "execution_count": null,
   "metadata": {},
   "outputs": [],
   "source": [
    "    df_movies[(df_movies.genres == 'Comedy')][['Awful','Bad','Average', 'Good', 'Excellent']] \\\n",
    "              .plot(kind='bar' )"
   ]
  },
  {
   "cell_type": "markdown",
   "metadata": {},
   "source": [
    "#### 6. - A Total mess. So swap the axis with a one character change to the code"
   ]
  },
  {
   "cell_type": "code",
   "execution_count": null,
   "metadata": {},
   "outputs": [],
   "source": [
    "df_movies[(df_movies.genres == 'Comedy')][['Awful','Bad','Average', 'Good', 'Excellent']] \\\n",
    "          .plot(kind='barh' )"
   ]
  },
  {
   "cell_type": "markdown",
   "metadata": {},
   "source": [
    "#### 7. Still a mess. we need to make the height of the graphing area larger. As we want to draw a graph for each genre and we  know that the number of movies in each varies greatly, it would be nice to select a height which is proportional to the number of movies in the genre."
   ]
  },
  {
   "cell_type": "markdown",
   "metadata": {},
   "source": [
    "#### 8. we can count the number of movies in a genre with this code"
   ]
  },
  {
   "cell_type": "code",
   "execution_count": null,
   "metadata": {},
   "outputs": [],
   "source": [
    "count = len(df_movies[(df_movies.genres == 'Comedy')])\n",
    "print(count)"
   ]
  },
  {
   "cell_type": "markdown",
   "metadata": {},
   "source": [
    "#### 9. We now need to pass this into the graph code. This is the first time we explicitly use a matplotlib method, although the plot method in pandas does actuall use matplotlib in the background."
   ]
  },
  {
   "cell_type": "code",
   "execution_count": null,
   "metadata": {},
   "outputs": [],
   "source": [
    "count = len(df_movies[(df_movies.genres == 'Comedy')])\n",
    "df_movies[(df_movies.genres == 'Comedy')][['Awful','Bad','Average', 'Good', 'Excellent']] \\\n",
    "          .plot(kind='barh' )\n",
    "plt.gcf().set_size_inches(5, count/2) "
   ]
  },
  {
   "cell_type": "markdown",
   "metadata": {},
   "source": [
    "#### 10. Now we want change the individual bars into a staked bar. We can do this by adding a single parameter to the plot method."
   ]
  },
  {
   "cell_type": "code",
   "execution_count": null,
   "metadata": {},
   "outputs": [],
   "source": [
    "count = len(df_movies[(df_movies.genres == 'Comedy')])\n",
    "df_movies[(df_movies.genres == 'Comedy')][['Awful','Bad','Average', 'Good', 'Excellent']] \\\n",
    "          .plot(kind='barh', stacked=True )\n",
    "plt.gcf().set_size_inches(5, count/2)"
   ]
  },
  {
   "cell_type": "markdown",
   "metadata": {},
   "source": [
    "#### 11. Now we just want to make some cosmetic changes to the axis labels and a title."
   ]
  },
  {
   "cell_type": "code",
   "execution_count": null,
   "metadata": {},
   "outputs": [],
   "source": [
    "count = len(df_movies[(df_movies.genres == 'Comedy')])\n",
    "df_movies[(df_movies.genres == 'Comedy')][['Awful','Bad','Average', 'Good', 'Excellent']] \\\n",
    "          .plot(kind='barh', stacked=True )\n",
    "plt.gcf().set_size_inches(5, count/2)\n",
    "plt.title('Comedy', fontsize=24)\n",
    "plt.xlabel('Respondents', fontsize=18)\n",
    "plt.ylabel('Title', fontsize=18)"
   ]
  },
  {
   "cell_type": "markdown",
   "metadata": {},
   "source": [
    "#### 12. Finally a line of code to save th graph to a file."
   ]
  },
  {
   "cell_type": "code",
   "execution_count": null,
   "metadata": {},
   "outputs": [],
   "source": [
    "count = len(df_movies[(df_movies.genres == 'Comedy')])\n",
    "df_movies[(df_movies.genres == 'Comedy')][['Awful','Bad','Average', 'Good', 'Excellent']] \\\n",
    "          .plot(kind='barh', stacked=True )\n",
    "plt.gcf().set_size_inches(5, count/2)\n",
    "plt.title('Comedy', fontsize=24)\n",
    "plt.xlabel('Respondents', fontsize=18)\n",
    "plt.ylabel('Title', fontsize=18)\n",
    "plt.savefig('Comedy' +'.png', bbox_inches='tight')"
   ]
  },
  {
   "cell_type": "markdown",
   "metadata": {},
   "source": [
    "#### 13. Now put this code back into the for loop so that all of the graphs are produced"
   ]
  },
  {
   "cell_type": "code",
   "execution_count": null,
   "metadata": {},
   "outputs": [],
   "source": [
    "#df_movies.set_index('title', inplace = True)\n",
    "genres = df_movies['genres'].unique()\n",
    "for x in genres :\n",
    "    count = len(df_movies[(df_movies.genres == x)])\n",
    "    df_movies[(df_movies.genres == x)][['Awful','Bad','Average', 'Good', 'Excellent']] \\\n",
    "              .plot(kind='barh', stacked=True ) \\\n",
    "              .legend(bbox_to_anchor=(1, 1))\n",
    "    plt.title(x, fontsize=24)\n",
    "    plt.xlabel('Respondents', fontsize=18)\n",
    "    plt.ylabel('Title', fontsize=18)\n",
    "    plt.gcf().set_size_inches(5, count/2) \n",
    "    plt.savefig(x +'.png', bbox_inches='tight')"
   ]
  },
  {
   "cell_type": "code",
   "execution_count": null,
   "metadata": {},
   "outputs": [],
   "source": []
  },
  {
   "cell_type": "code",
   "execution_count": null,
   "metadata": {},
   "outputs": [],
   "source": []
  },
  {
   "cell_type": "code",
   "execution_count": null,
   "metadata": {},
   "outputs": [],
   "source": []
  }
 ],
 "metadata": {
  "kernelspec": {
   "display_name": "Python 3",
   "language": "python",
   "name": "python3"
  },
  "language_info": {
   "codemirror_mode": {
    "name": "ipython",
    "version": 3
   },
   "file_extension": ".py",
   "mimetype": "text/x-python",
   "name": "python",
   "nbconvert_exporter": "python",
   "pygments_lexer": "ipython3",
   "version": "3.7.0"
  }
 },
 "nbformat": 4,
 "nbformat_minor": 2
}
